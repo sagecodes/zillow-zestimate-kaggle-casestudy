{
 "cells": [
  {
   "cell_type": "code",
   "execution_count": 1,
   "metadata": {},
   "outputs": [],
   "source": [
    "# Import base Libraries\n",
    "import pandas as pd\n",
    "# import numpy as np\n",
    "import seaborn as sns\n",
    "import matplotlib.pyplot as plt\n",
    "%matplotlib inline"
   ]
  },
  {
   "cell_type": "code",
   "execution_count": 2,
   "metadata": {},
   "outputs": [],
   "source": [
    "# add the scripts directory to the python path, or the set of places the python interpreter looks for code files\n",
    "import sys\n",
    "sys.path.insert(0, './ds_helpers')\n",
    "\n",
    "# now read in the functions\n",
    "from helpers import read_in_dataset, merge_dataset"
   ]
  },
  {
   "cell_type": "markdown",
   "metadata": {},
   "source": [
    "### Import Data"
   ]
  },
  {
   "cell_type": "code",
   "execution_count": 3,
   "metadata": {},
   "outputs": [],
   "source": [
    "dataset_folder = '../datasets/zillow/'"
   ]
  },
  {
   "cell_type": "code",
   "execution_count": 4,
   "metadata": {},
   "outputs": [
    {
     "name": "stdout",
     "output_type": "stream",
     "text": [
      "properties_2016.csv\n",
      "properties_2017.csv\n",
      "sample_submission.csv\n",
      "train_2016.csv\n",
      "train_2017.csv\n",
      "zillow_data_dictionary.xlsx\n"
     ]
    }
   ],
   "source": [
    "!ls ../datasets/zillow/"
   ]
  },
  {
   "cell_type": "code",
   "execution_count": 5,
   "metadata": {},
   "outputs": [],
   "source": [
    "data_dictionary = pd.read_excel(f'{dataset_folder}/zillow_data_dictionary.xlsx')"
   ]
  },
  {
   "cell_type": "code",
   "execution_count": 6,
   "metadata": {},
   "outputs": [
    {
     "data": {
      "text/html": [
       "<div>\n",
       "<style scoped>\n",
       "    .dataframe tbody tr th:only-of-type {\n",
       "        vertical-align: middle;\n",
       "    }\n",
       "\n",
       "    .dataframe tbody tr th {\n",
       "        vertical-align: top;\n",
       "    }\n",
       "\n",
       "    .dataframe thead th {\n",
       "        text-align: right;\n",
       "    }\n",
       "</style>\n",
       "<table border=\"1\" class=\"dataframe\">\n",
       "  <thead>\n",
       "    <tr style=\"text-align: right;\">\n",
       "      <th></th>\n",
       "      <th>Feature</th>\n",
       "      <th>Description</th>\n",
       "    </tr>\n",
       "  </thead>\n",
       "  <tbody>\n",
       "    <tr>\n",
       "      <td>0</td>\n",
       "      <td>'airconditioningtypeid'</td>\n",
       "      <td>Type of cooling system present in the home (i...</td>\n",
       "    </tr>\n",
       "    <tr>\n",
       "      <td>1</td>\n",
       "      <td>'architecturalstyletypeid'</td>\n",
       "      <td>Architectural style of the home (i.e. ranch, ...</td>\n",
       "    </tr>\n",
       "    <tr>\n",
       "      <td>2</td>\n",
       "      <td>'basementsqft'</td>\n",
       "      <td>Finished living area below or partially below...</td>\n",
       "    </tr>\n",
       "    <tr>\n",
       "      <td>3</td>\n",
       "      <td>'bathroomcnt'</td>\n",
       "      <td>Number of bathrooms in home including fractio...</td>\n",
       "    </tr>\n",
       "    <tr>\n",
       "      <td>4</td>\n",
       "      <td>'bedroomcnt'</td>\n",
       "      <td>Number of bedrooms in home</td>\n",
       "    </tr>\n",
       "  </tbody>\n",
       "</table>\n",
       "</div>"
      ],
      "text/plain": [
       "                      Feature  \\\n",
       "0     'airconditioningtypeid'   \n",
       "1  'architecturalstyletypeid'   \n",
       "2              'basementsqft'   \n",
       "3               'bathroomcnt'   \n",
       "4                'bedroomcnt'   \n",
       "\n",
       "                                         Description  \n",
       "0   Type of cooling system present in the home (i...  \n",
       "1   Architectural style of the home (i.e. ranch, ...  \n",
       "2   Finished living area below or partially below...  \n",
       "3   Number of bathrooms in home including fractio...  \n",
       "4                        Number of bedrooms in home   "
      ]
     },
     "execution_count": 6,
     "metadata": {},
     "output_type": "execute_result"
    }
   ],
   "source": [
    "data_dictionary.head()"
   ]
  },
  {
   "cell_type": "code",
   "execution_count": null,
   "metadata": {},
   "outputs": [],
   "source": []
  },
  {
   "cell_type": "code",
   "execution_count": 7,
   "metadata": {},
   "outputs": [
    {
     "name": "stderr",
     "output_type": "stream",
     "text": [
      "C:\\Users\\wildt\\Anaconda3\\lib\\site-packages\\IPython\\core\\interactiveshell.py:3249: DtypeWarning: Columns (22,32,34,49,55) have mixed types. Specify dtype option on import or set low_memory=False.\n",
      "  if (await self.run_code(code, result,  async_=asy)):\n"
     ]
    },
    {
     "name": "stdout",
     "output_type": "stream",
     "text": [
      "------------------------------------------\n",
      "\n",
      "Reading in the properties_2016.csv dataset:\n",
      "\n",
      "------------------------------------------\n",
      "\n",
      "it has 2985217 rows and 58 columns\n",
      "\n",
      "------------------------------------------\n",
      "\n",
      "It has the following columns \n",
      "\n",
      "Index(['parcelid', 'airconditioningtypeid', 'architecturalstyletypeid',\n",
      "       'basementsqft', 'bathroomcnt', 'bedroomcnt', 'buildingclasstypeid',\n",
      "       'buildingqualitytypeid', 'calculatedbathnbr', 'decktypeid',\n",
      "       'finishedfloor1squarefeet', 'calculatedfinishedsquarefeet',\n",
      "       'finishedsquarefeet12', 'finishedsquarefeet13', 'finishedsquarefeet15',\n",
      "       'finishedsquarefeet50', 'finishedsquarefeet6', 'fips', 'fireplacecnt',\n",
      "       'fullbathcnt', 'garagecarcnt', 'garagetotalsqft', 'hashottuborspa',\n",
      "       'heatingorsystemtypeid', 'latitude', 'longitude', 'lotsizesquarefeet',\n",
      "       'poolcnt', 'poolsizesum', 'pooltypeid10', 'pooltypeid2', 'pooltypeid7',\n",
      "       'propertycountylandusecode', 'propertylandusetypeid',\n",
      "       'propertyzoningdesc', 'rawcensustractandblock', 'regionidcity',\n",
      "       'regionidcounty', 'regionidneighborhood', 'regionidzip', 'roomcnt',\n",
      "       'storytypeid', 'threequarterbathnbr', 'typeconstructiontypeid',\n",
      "       'unitcnt', 'yardbuildingsqft17', 'yardbuildingsqft26', 'yearbuilt',\n",
      "       'numberofstories', 'fireplaceflag', 'structuretaxvaluedollarcnt',\n",
      "       'taxvaluedollarcnt', 'assessmentyear', 'landtaxvaluedollarcnt',\n",
      "       'taxamount', 'taxdelinquencyflag', 'taxdelinquencyyear',\n",
      "       'censustractandblock'],\n",
      "      dtype='object')\n",
      "\n",
      "------------------------------------------\n",
      "\n",
      " The first 5 rows look like this: \n",
      "\n",
      "   parcelid  airconditioningtypeid  architecturalstyletypeid  basementsqft  \\\n",
      "0  10754147                    NaN                       NaN           NaN   \n",
      "1  10759547                    NaN                       NaN           NaN   \n",
      "2  10843547                    NaN                       NaN           NaN   \n",
      "3  10859147                    NaN                       NaN           NaN   \n",
      "4  10879947                    NaN                       NaN           NaN   \n",
      "\n",
      "   bathroomcnt  bedroomcnt  buildingclasstypeid  buildingqualitytypeid  \\\n",
      "0          0.0         0.0                  NaN                    NaN   \n",
      "1          0.0         0.0                  NaN                    NaN   \n",
      "2          0.0         0.0                  NaN                    NaN   \n",
      "3          0.0         0.0                  3.0                    7.0   \n",
      "4          0.0         0.0                  4.0                    NaN   \n",
      "\n",
      "   calculatedbathnbr  decktypeid  ...  numberofstories  fireplaceflag  \\\n",
      "0                NaN         NaN  ...              NaN            NaN   \n",
      "1                NaN         NaN  ...              NaN            NaN   \n",
      "2                NaN         NaN  ...              NaN            NaN   \n",
      "3                NaN         NaN  ...              1.0            NaN   \n",
      "4                NaN         NaN  ...              NaN            NaN   \n",
      "\n",
      "   structuretaxvaluedollarcnt  taxvaluedollarcnt  assessmentyear  \\\n",
      "0                         NaN                9.0          2015.0   \n",
      "1                         NaN            27516.0          2015.0   \n",
      "2                    650756.0          1413387.0          2015.0   \n",
      "3                    571346.0          1156834.0          2015.0   \n",
      "4                    193796.0           433491.0          2015.0   \n",
      "\n",
      "   landtaxvaluedollarcnt  taxamount  taxdelinquencyflag  taxdelinquencyyear  \\\n",
      "0                    9.0        NaN                 NaN                 NaN   \n",
      "1                27516.0        NaN                 NaN                 NaN   \n",
      "2               762631.0   20800.37                 NaN                 NaN   \n",
      "3               585488.0   14557.57                 NaN                 NaN   \n",
      "4               239695.0    5725.17                 NaN                 NaN   \n",
      "\n",
      "   censustractandblock  \n",
      "0                  NaN  \n",
      "1                  NaN  \n",
      "2                  NaN  \n",
      "3                  NaN  \n",
      "4                  NaN  \n",
      "\n",
      "[5 rows x 58 columns]\n",
      "------------------------------------------\n"
     ]
    }
   ],
   "source": [
    "properties = read_in_dataset(dataset_folder,\"properties_2016.csv\",True)"
   ]
  },
  {
   "cell_type": "code",
   "execution_count": null,
   "metadata": {},
   "outputs": [],
   "source": []
  },
  {
   "cell_type": "code",
   "execution_count": null,
   "metadata": {},
   "outputs": [],
   "source": []
  },
  {
   "cell_type": "code",
   "execution_count": null,
   "metadata": {},
   "outputs": [],
   "source": []
  }
 ],
 "metadata": {
  "kernelspec": {
   "display_name": "Python 3",
   "language": "python",
   "name": "python3"
  },
  "language_info": {
   "codemirror_mode": {
    "name": "ipython",
    "version": 3
   },
   "file_extension": ".py",
   "mimetype": "text/x-python",
   "name": "python",
   "nbconvert_exporter": "python",
   "pygments_lexer": "ipython3",
   "version": "3.7.4"
  }
 },
 "nbformat": 4,
 "nbformat_minor": 2
}
