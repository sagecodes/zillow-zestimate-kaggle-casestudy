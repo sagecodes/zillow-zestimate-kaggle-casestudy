{
 "cells": [
  {
   "cell_type": "markdown",
   "metadata": {},
   "source": [
    "## Imports & Setup"
   ]
  },
  {
   "cell_type": "code",
   "execution_count": 1,
   "metadata": {},
   "outputs": [],
   "source": [
    "# Import base Libraries\n",
    "import pandas as pd\n",
    "# import numpy as np\n",
    "import seaborn as sns\n",
    "import matplotlib.pyplot as plt\n",
    "from pandas.plotting import register_matplotlib_converters\n",
    "%matplotlib inline\n",
    "register_matplotlib_converters()"
   ]
  },
  {
   "cell_type": "code",
   "execution_count": 2,
   "metadata": {},
   "outputs": [],
   "source": [
    "# add the scripts directory to the python path,\n",
    "# or the set of places the python interpreter looks for code files\n",
    "import sys\n",
    "sys.path.insert(0, './ds_helpers')\n",
    "\n",
    "# now read in the functions\n",
    "from helpers import read_in_dataset, merge_dataset"
   ]
  },
  {
   "cell_type": "code",
   "execution_count": 3,
   "metadata": {},
   "outputs": [],
   "source": [
    "# Set path to dataset\n",
    "dataset_folder = '../datasets/zillow/'"
   ]
  },
  {
   "cell_type": "code",
   "execution_count": 4,
   "metadata": {},
   "outputs": [
    {
     "name": "stdout",
     "output_type": "stream",
     "text": [
      "properties_2016.csv\n",
      "properties_2017.csv\n",
      "sample_submission.csv\n",
      "train_2016.csv\n",
      "train_2017.csv\n",
      "train_data_merged_2016.csv\n",
      "train_data_merged_2016.p\n",
      "zillow_data_dictionary.xlsx\n"
     ]
    }
   ],
   "source": [
    "# List files in dataset\n",
    "!ls ../datasets/zillow/"
   ]
  },
  {
   "cell_type": "code",
   "execution_count": 5,
   "metadata": {},
   "outputs": [
    {
     "name": "stdout",
     "output_type": "stream",
     "text": [
      "------------------------------------------\n",
      "\n",
      "Reading in the train_data_merged_2016.csv dataset:\n",
      "\n",
      "------------------------------------------\n",
      "\n",
      "it has 90275 rows and 60 columns\n",
      "\n",
      "------------------------------------------\n",
      "\n",
      "It has the following columns: \n",
      "\n",
      "Index(['parcelid', 'logerror', 'transactiondate', 'airconditioningtypeid',\n",
      "       'architecturalstyletypeid', 'basementsqft', 'bathroomcnt', 'bedroomcnt',\n",
      "       'buildingclasstypeid', 'buildingqualitytypeid', 'calculatedbathnbr',\n",
      "       'decktypeid', 'finishedfloor1squarefeet',\n",
      "       'calculatedfinishedsquarefeet', 'finishedsquarefeet12',\n",
      "       'finishedsquarefeet13', 'finishedsquarefeet15', 'finishedsquarefeet50',\n",
      "       'finishedsquarefeet6', 'fips', 'fireplacecnt', 'fullbathcnt',\n",
      "       'garagecarcnt', 'garagetotalsqft', 'hashottuborspa',\n",
      "       'heatingorsystemtypeid', 'latitude', 'longitude', 'lotsizesquarefeet',\n",
      "       'poolcnt', 'poolsizesum', 'pooltypeid10', 'pooltypeid2', 'pooltypeid7',\n",
      "       'propertycountylandusecode', 'propertylandusetypeid',\n",
      "       'propertyzoningdesc', 'rawcensustractandblock', 'regionidcity',\n",
      "       'regionidcounty', 'regionidneighborhood', 'regionidzip', 'roomcnt',\n",
      "       'storytypeid', 'threequarterbathnbr', 'typeconstructiontypeid',\n",
      "       'unitcnt', 'yardbuildingsqft17', 'yardbuildingsqft26', 'yearbuilt',\n",
      "       'numberofstories', 'fireplaceflag', 'structuretaxvaluedollarcnt',\n",
      "       'taxvaluedollarcnt', 'assessmentyear', 'landtaxvaluedollarcnt',\n",
      "       'taxamount', 'taxdelinquencyflag', 'taxdelinquencyyear',\n",
      "       'censustractandblock'],\n",
      "      dtype='object')\n",
      "\n",
      "------------------------------------------\n",
      "\n",
      " The first 5 rows look like this: \n",
      "\n",
      "   parcelid  logerror transactiondate  airconditioningtypeid  \\\n",
      "0  11016594    0.0276      2016-01-01                    1.0   \n",
      "1  14366692   -0.1684      2016-01-01                    NaN   \n",
      "2  12098116   -0.0040      2016-01-01                    1.0   \n",
      "3  12643413    0.0218      2016-01-02                    1.0   \n",
      "4  14432541   -0.0050      2016-01-02                    NaN   \n",
      "\n",
      "   architecturalstyletypeid  basementsqft  bathroomcnt  bedroomcnt  \\\n",
      "0                       NaN           NaN          2.0         3.0   \n",
      "1                       NaN           NaN          3.5         4.0   \n",
      "2                       NaN           NaN          3.0         2.0   \n",
      "3                       NaN           NaN          2.0         2.0   \n",
      "4                       NaN           NaN          2.5         4.0   \n",
      "\n",
      "   buildingclasstypeid  buildingqualitytypeid  ...  numberofstories  \\\n",
      "0                  NaN                    4.0  ...              NaN   \n",
      "1                  NaN                    NaN  ...              NaN   \n",
      "2                  NaN                    4.0  ...              NaN   \n",
      "3                  NaN                    4.0  ...              NaN   \n",
      "4                  NaN                    NaN  ...              2.0   \n",
      "\n",
      "   fireplaceflag  structuretaxvaluedollarcnt  taxvaluedollarcnt  \\\n",
      "0            NaN                    122754.0           360170.0   \n",
      "1            NaN                    346458.0           585529.0   \n",
      "2            NaN                     61994.0           119906.0   \n",
      "3            NaN                    171518.0           244880.0   \n",
      "4            NaN                    169574.0           434551.0   \n",
      "\n",
      "   assessmentyear  landtaxvaluedollarcnt  taxamount  taxdelinquencyflag  \\\n",
      "0          2015.0               237416.0    6735.88                 NaN   \n",
      "1          2015.0               239071.0   10153.02                 NaN   \n",
      "2          2015.0                57912.0   11484.48                 NaN   \n",
      "3          2015.0                73362.0    3048.74                 NaN   \n",
      "4          2015.0               264977.0    5488.96                 NaN   \n",
      "\n",
      "   taxdelinquencyyear  censustractandblock  \n",
      "0                 NaN         6.037107e+13  \n",
      "1                 NaN                  NaN  \n",
      "2                 NaN         6.037464e+13  \n",
      "3                 NaN         6.037296e+13  \n",
      "4                 NaN         6.059042e+13  \n",
      "\n",
      "[5 rows x 60 columns]\n",
      "\n",
      "------------------------------------------\n",
      "\n",
      "           parcelid      logerror  airconditioningtypeid  \\\n",
      "count  9.027500e+04  90275.000000           28781.000000   \n",
      "mean   1.298466e+07      0.011457               1.816372   \n",
      "std    2.504510e+06      0.161079               2.974168   \n",
      "min    1.071174e+07     -4.605000               1.000000   \n",
      "25%    1.155950e+07     -0.025300               1.000000   \n",
      "50%    1.254734e+07      0.006000               1.000000   \n",
      "75%    1.422755e+07      0.039200               1.000000   \n",
      "max    1.629608e+08      4.737000              13.000000   \n",
      "\n",
      "       architecturalstyletypeid  basementsqft   bathroomcnt    bedroomcnt  \\\n",
      "count                261.000000     43.000000  90275.000000  90275.000000   \n",
      "mean                   7.229885    713.581395      2.279474      3.031869   \n",
      "std                    2.716196    437.434198      1.004271      1.156436   \n",
      "min                    2.000000    100.000000      0.000000      0.000000   \n",
      "25%                    7.000000    407.500000      2.000000      2.000000   \n",
      "50%                    7.000000    616.000000      2.000000      3.000000   \n",
      "75%                    7.000000    872.000000      3.000000      4.000000   \n",
      "max                   21.000000   1555.000000     20.000000     16.000000   \n",
      "\n",
      "       buildingclasstypeid  buildingqualitytypeid  calculatedbathnbr  ...  \\\n",
      "count                 16.0           57364.000000       89093.000000  ...   \n",
      "mean                   4.0               5.565407           2.309216  ...   \n",
      "std                    0.0               1.900602           0.976172  ...   \n",
      "min                    4.0               1.000000           1.000000  ...   \n",
      "25%                    4.0               4.000000           2.000000  ...   \n",
      "50%                    4.0               7.000000           2.000000  ...   \n",
      "75%                    4.0               7.000000           3.000000  ...   \n",
      "max                    4.0              12.000000          20.000000  ...   \n",
      "\n",
      "       yardbuildingsqft26     yearbuilt  numberofstories  \\\n",
      "count           95.000000  89519.000000     20570.000000   \n",
      "mean           311.694737   1968.532870         1.440739   \n",
      "std            346.354850     23.763475         0.544498   \n",
      "min             18.000000   1885.000000         1.000000   \n",
      "25%            100.000000   1953.000000         1.000000   \n",
      "50%            159.000000   1970.000000         1.000000   \n",
      "75%            361.000000   1987.000000         2.000000   \n",
      "max           1366.000000   2015.000000         4.000000   \n",
      "\n",
      "       structuretaxvaluedollarcnt  taxvaluedollarcnt  assessmentyear  \\\n",
      "count                8.989500e+04       9.027400e+04         90275.0   \n",
      "mean                 1.800934e+05       4.576726e+05          2015.0   \n",
      "std                  2.091299e+05       5.548844e+05             0.0   \n",
      "min                  1.000000e+02       2.200000e+01          2015.0   \n",
      "25%                  8.124500e+04       1.990232e+05          2015.0   \n",
      "50%                  1.320000e+05       3.428720e+05          2015.0   \n",
      "75%                  2.105345e+05       5.405890e+05          2015.0   \n",
      "max                  9.948100e+06       2.775000e+07          2015.0   \n",
      "\n",
      "       landtaxvaluedollarcnt      taxamount  taxdelinquencyyear  \\\n",
      "count           9.027400e+04   90269.000000         1783.000000   \n",
      "mean            2.783353e+05    5983.975927           13.402692   \n",
      "std             4.004955e+05    6838.876956            2.715966   \n",
      "min             2.200000e+01      49.080000            6.000000   \n",
      "25%             8.222800e+04    2872.830000           13.000000   \n",
      "50%             1.929700e+05    4542.750000           14.000000   \n",
      "75%             3.454195e+05    6901.090000           15.000000   \n",
      "max             2.450000e+07  321936.090000           99.000000   \n",
      "\n",
      "       censustractandblock  \n",
      "count         8.967000e+04  \n",
      "mean          6.049151e+13  \n",
      "std           2.046605e+11  \n",
      "min           6.037101e+13  \n",
      "25%           6.037320e+13  \n",
      "50%           6.037615e+13  \n",
      "75%           6.059042e+13  \n",
      "max           6.111009e+13  \n",
      "\n",
      "[8 rows x 54 columns]\n"
     ]
    }
   ],
   "source": [
    "df_train_merged = read_in_dataset(dataset_folder,\"train_data_merged_2016.csv\",True)"
   ]
  },
  {
   "cell_type": "markdown",
   "metadata": {},
   "source": [
    "## EDA"
   ]
  },
  {
   "cell_type": "code",
   "execution_count": 6,
   "metadata": {},
   "outputs": [
    {
     "data": {
      "text/html": [
       "<div>\n",
       "<style scoped>\n",
       "    .dataframe tbody tr th:only-of-type {\n",
       "        vertical-align: middle;\n",
       "    }\n",
       "\n",
       "    .dataframe tbody tr th {\n",
       "        vertical-align: top;\n",
       "    }\n",
       "\n",
       "    .dataframe thead th {\n",
       "        text-align: right;\n",
       "    }\n",
       "</style>\n",
       "<table border=\"1\" class=\"dataframe\">\n",
       "  <thead>\n",
       "    <tr style=\"text-align: right;\">\n",
       "      <th></th>\n",
       "      <th>parcelid</th>\n",
       "      <th>logerror</th>\n",
       "      <th>transactiondate</th>\n",
       "      <th>airconditioningtypeid</th>\n",
       "      <th>architecturalstyletypeid</th>\n",
       "      <th>basementsqft</th>\n",
       "      <th>bathroomcnt</th>\n",
       "      <th>bedroomcnt</th>\n",
       "      <th>buildingclasstypeid</th>\n",
       "      <th>buildingqualitytypeid</th>\n",
       "      <th>...</th>\n",
       "      <th>numberofstories</th>\n",
       "      <th>fireplaceflag</th>\n",
       "      <th>structuretaxvaluedollarcnt</th>\n",
       "      <th>taxvaluedollarcnt</th>\n",
       "      <th>assessmentyear</th>\n",
       "      <th>landtaxvaluedollarcnt</th>\n",
       "      <th>taxamount</th>\n",
       "      <th>taxdelinquencyflag</th>\n",
       "      <th>taxdelinquencyyear</th>\n",
       "      <th>censustractandblock</th>\n",
       "    </tr>\n",
       "  </thead>\n",
       "  <tbody>\n",
       "    <tr>\n",
       "      <td>0</td>\n",
       "      <td>11016594</td>\n",
       "      <td>0.0276</td>\n",
       "      <td>2016-01-01</td>\n",
       "      <td>1.0</td>\n",
       "      <td>NaN</td>\n",
       "      <td>NaN</td>\n",
       "      <td>2.0</td>\n",
       "      <td>3.0</td>\n",
       "      <td>NaN</td>\n",
       "      <td>4.0</td>\n",
       "      <td>...</td>\n",
       "      <td>NaN</td>\n",
       "      <td>NaN</td>\n",
       "      <td>122754.0</td>\n",
       "      <td>360170.0</td>\n",
       "      <td>2015.0</td>\n",
       "      <td>237416.0</td>\n",
       "      <td>6735.88</td>\n",
       "      <td>NaN</td>\n",
       "      <td>NaN</td>\n",
       "      <td>6.037107e+13</td>\n",
       "    </tr>\n",
       "    <tr>\n",
       "      <td>1</td>\n",
       "      <td>14366692</td>\n",
       "      <td>-0.1684</td>\n",
       "      <td>2016-01-01</td>\n",
       "      <td>NaN</td>\n",
       "      <td>NaN</td>\n",
       "      <td>NaN</td>\n",
       "      <td>3.5</td>\n",
       "      <td>4.0</td>\n",
       "      <td>NaN</td>\n",
       "      <td>NaN</td>\n",
       "      <td>...</td>\n",
       "      <td>NaN</td>\n",
       "      <td>NaN</td>\n",
       "      <td>346458.0</td>\n",
       "      <td>585529.0</td>\n",
       "      <td>2015.0</td>\n",
       "      <td>239071.0</td>\n",
       "      <td>10153.02</td>\n",
       "      <td>NaN</td>\n",
       "      <td>NaN</td>\n",
       "      <td>NaN</td>\n",
       "    </tr>\n",
       "    <tr>\n",
       "      <td>2</td>\n",
       "      <td>12098116</td>\n",
       "      <td>-0.0040</td>\n",
       "      <td>2016-01-01</td>\n",
       "      <td>1.0</td>\n",
       "      <td>NaN</td>\n",
       "      <td>NaN</td>\n",
       "      <td>3.0</td>\n",
       "      <td>2.0</td>\n",
       "      <td>NaN</td>\n",
       "      <td>4.0</td>\n",
       "      <td>...</td>\n",
       "      <td>NaN</td>\n",
       "      <td>NaN</td>\n",
       "      <td>61994.0</td>\n",
       "      <td>119906.0</td>\n",
       "      <td>2015.0</td>\n",
       "      <td>57912.0</td>\n",
       "      <td>11484.48</td>\n",
       "      <td>NaN</td>\n",
       "      <td>NaN</td>\n",
       "      <td>6.037464e+13</td>\n",
       "    </tr>\n",
       "    <tr>\n",
       "      <td>3</td>\n",
       "      <td>12643413</td>\n",
       "      <td>0.0218</td>\n",
       "      <td>2016-01-02</td>\n",
       "      <td>1.0</td>\n",
       "      <td>NaN</td>\n",
       "      <td>NaN</td>\n",
       "      <td>2.0</td>\n",
       "      <td>2.0</td>\n",
       "      <td>NaN</td>\n",
       "      <td>4.0</td>\n",
       "      <td>...</td>\n",
       "      <td>NaN</td>\n",
       "      <td>NaN</td>\n",
       "      <td>171518.0</td>\n",
       "      <td>244880.0</td>\n",
       "      <td>2015.0</td>\n",
       "      <td>73362.0</td>\n",
       "      <td>3048.74</td>\n",
       "      <td>NaN</td>\n",
       "      <td>NaN</td>\n",
       "      <td>6.037296e+13</td>\n",
       "    </tr>\n",
       "    <tr>\n",
       "      <td>4</td>\n",
       "      <td>14432541</td>\n",
       "      <td>-0.0050</td>\n",
       "      <td>2016-01-02</td>\n",
       "      <td>NaN</td>\n",
       "      <td>NaN</td>\n",
       "      <td>NaN</td>\n",
       "      <td>2.5</td>\n",
       "      <td>4.0</td>\n",
       "      <td>NaN</td>\n",
       "      <td>NaN</td>\n",
       "      <td>...</td>\n",
       "      <td>2.0</td>\n",
       "      <td>NaN</td>\n",
       "      <td>169574.0</td>\n",
       "      <td>434551.0</td>\n",
       "      <td>2015.0</td>\n",
       "      <td>264977.0</td>\n",
       "      <td>5488.96</td>\n",
       "      <td>NaN</td>\n",
       "      <td>NaN</td>\n",
       "      <td>6.059042e+13</td>\n",
       "    </tr>\n",
       "  </tbody>\n",
       "</table>\n",
       "<p>5 rows × 60 columns</p>\n",
       "</div>"
      ],
      "text/plain": [
       "   parcelid  logerror transactiondate  airconditioningtypeid  \\\n",
       "0  11016594    0.0276      2016-01-01                    1.0   \n",
       "1  14366692   -0.1684      2016-01-01                    NaN   \n",
       "2  12098116   -0.0040      2016-01-01                    1.0   \n",
       "3  12643413    0.0218      2016-01-02                    1.0   \n",
       "4  14432541   -0.0050      2016-01-02                    NaN   \n",
       "\n",
       "   architecturalstyletypeid  basementsqft  bathroomcnt  bedroomcnt  \\\n",
       "0                       NaN           NaN          2.0         3.0   \n",
       "1                       NaN           NaN          3.5         4.0   \n",
       "2                       NaN           NaN          3.0         2.0   \n",
       "3                       NaN           NaN          2.0         2.0   \n",
       "4                       NaN           NaN          2.5         4.0   \n",
       "\n",
       "   buildingclasstypeid  buildingqualitytypeid  ...  numberofstories  \\\n",
       "0                  NaN                    4.0  ...              NaN   \n",
       "1                  NaN                    NaN  ...              NaN   \n",
       "2                  NaN                    4.0  ...              NaN   \n",
       "3                  NaN                    4.0  ...              NaN   \n",
       "4                  NaN                    NaN  ...              2.0   \n",
       "\n",
       "   fireplaceflag  structuretaxvaluedollarcnt  taxvaluedollarcnt  \\\n",
       "0            NaN                    122754.0           360170.0   \n",
       "1            NaN                    346458.0           585529.0   \n",
       "2            NaN                     61994.0           119906.0   \n",
       "3            NaN                    171518.0           244880.0   \n",
       "4            NaN                    169574.0           434551.0   \n",
       "\n",
       "   assessmentyear  landtaxvaluedollarcnt  taxamount  taxdelinquencyflag  \\\n",
       "0          2015.0               237416.0    6735.88                 NaN   \n",
       "1          2015.0               239071.0   10153.02                 NaN   \n",
       "2          2015.0                57912.0   11484.48                 NaN   \n",
       "3          2015.0                73362.0    3048.74                 NaN   \n",
       "4          2015.0               264977.0    5488.96                 NaN   \n",
       "\n",
       "   taxdelinquencyyear  censustractandblock  \n",
       "0                 NaN         6.037107e+13  \n",
       "1                 NaN                  NaN  \n",
       "2                 NaN         6.037464e+13  \n",
       "3                 NaN         6.037296e+13  \n",
       "4                 NaN         6.059042e+13  \n",
       "\n",
       "[5 rows x 60 columns]"
      ]
     },
     "execution_count": 6,
     "metadata": {},
     "output_type": "execute_result"
    }
   ],
   "source": [
    "df_train_merged.head()"
   ]
  },
  {
   "cell_type": "code",
   "execution_count": 7,
   "metadata": {},
   "outputs": [
    {
     "data": {
      "text/plain": [
       "(90275, 60)"
      ]
     },
     "execution_count": 7,
     "metadata": {},
     "output_type": "execute_result"
    }
   ],
   "source": [
    "df_train_merged.shape"
   ]
  },
  {
   "cell_type": "markdown",
   "metadata": {},
   "source": [
    "## Explore transaction dates"
   ]
  },
  {
   "cell_type": "code",
   "execution_count": 9,
   "metadata": {},
   "outputs": [
    {
     "data": {
      "text/plain": [
       "<matplotlib.axes._subplots.AxesSubplot at 0x18b46764b88>"
      ]
     },
     "execution_count": 9,
     "metadata": {},
     "output_type": "execute_result"
    },
    {
     "data": {
      "image/png": "[encoded data removed]",
      "text/plain": [
       "<Figure size 432x288 with 1 Axes>"
      ]
     },
     "metadata": {
      "needs_background": "light"
     },
     "output_type": "display_data"
    }
   ],
   "source": [
    "pd.to_datetime(df_train_merged.transactiondate).hist()"
   ]
  },
  {
   "cell_type": "markdown",
   "metadata": {},
   "source": [
    "Above: as stated data near and after nov is with held in testing set\n",
    "\n",
    "https://www.kaggle.com/c/zillow-prize-1"
   ]
  },
  {
   "cell_type": "code",
   "execution_count": 11,
   "metadata": {},
   "outputs": [
    {
     "data": {
      "text/plain": [
       "Timestamp('2016-01-01 00:00:00')"
      ]
     },
     "execution_count": 11,
     "metadata": {},
     "output_type": "execute_result"
    }
   ],
   "source": [
    "pd.to_datetime(df_train_merged.transactiondate).min()"
   ]
  },
  {
   "cell_type": "code",
   "execution_count": 12,
   "metadata": {},
   "outputs": [
    {
     "data": {
      "text/plain": [
       "Timestamp('2016-12-30 00:00:00')"
      ]
     },
     "execution_count": 12,
     "metadata": {},
     "output_type": "execute_result"
    }
   ],
   "source": [
    "pd.to_datetime(df_train_merged.transactiondate).max()"
   ]
  },
  {
   "cell_type": "code",
   "execution_count": null,
   "metadata": {},
   "outputs": [],
   "source": []
  },
  {
   "cell_type": "code",
   "execution_count": null,
   "metadata": {},
   "outputs": [],
   "source": []
  },
  {
   "cell_type": "code",
   "execution_count": null,
   "metadata": {},
   "outputs": [],
   "source": []
  },
  {
   "cell_type": "code",
   "execution_count": null,
   "metadata": {},
   "outputs": [],
   "source": []
  }
 ],
 "metadata": {
  "kernelspec": {
   "display_name": "Python 3",
   "language": "python",
   "name": "python3"
  },
  "language_info": {
   "codemirror_mode": {
    "name": "ipython",
    "version": 3
   },
   "file_extension": ".py",
   "mimetype": "text/x-python",
   "name": "python",
   "nbconvert_exporter": "python",
   "pygments_lexer": "ipython3",
   "version": "3.7.4"
  }
 },
 "nbformat": 4,
 "nbformat_minor": 2
}
